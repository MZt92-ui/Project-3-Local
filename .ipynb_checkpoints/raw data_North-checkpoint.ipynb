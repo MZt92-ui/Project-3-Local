{
 "cells": [
  {
   "cell_type": "code",
   "execution_count": 30,
   "id": "4069741b",
   "metadata": {},
   "outputs": [],
   "source": [
    "import pandas as pd\n",
    "import numpy as np\n",
    "import matplotlib.pyplot as plt"
   ]
  },
  {
   "cell_type": "code",
   "execution_count": 2,
   "id": "3cdbe9d5",
   "metadata": {},
   "outputs": [],
   "source": [
    "north_in = pd.read_csv(\"Resources/north.csv\")"
   ]
  },
  {
   "cell_type": "markdown",
   "id": "5467a2aa",
   "metadata": {},
   "source": [
    "# Investigate Data"
   ]
  },
  {
   "cell_type": "code",
   "execution_count": 3,
   "id": "faf41db7",
   "metadata": {},
   "outputs": [
    {
     "data": {
      "text/html": [
       "<div>\n",
       "<style scoped>\n",
       "    .dataframe tbody tr th:only-of-type {\n",
       "        vertical-align: middle;\n",
       "    }\n",
       "\n",
       "    .dataframe tbody tr th {\n",
       "        vertical-align: top;\n",
       "    }\n",
       "\n",
       "    .dataframe thead th {\n",
       "        text-align: right;\n",
       "    }\n",
       "</style>\n",
       "<table border=\"1\" class=\"dataframe\">\n",
       "  <thead>\n",
       "    <tr style=\"text-align: right;\">\n",
       "      <th></th>\n",
       "      <th>index</th>\n",
       "      <th>Data</th>\n",
       "      <th>Hora</th>\n",
       "      <th>PRECIPITAÇÃO TOTAL, HORÁRIO (mm)</th>\n",
       "      <th>PRESSAO ATMOSFERICA AO NIVEL DA ESTACAO, HORARIA (mB)</th>\n",
       "      <th>PRESSÃO ATMOSFERICA MAX.NA HORA ANT. (AUT) (mB)</th>\n",
       "      <th>PRESSÃO ATMOSFERICA MIN. NA HORA ANT. (AUT) (mB)</th>\n",
       "      <th>RADIACAO GLOBAL (Kj/m²)</th>\n",
       "      <th>TEMPERATURA DO AR - BULBO SECO, HORARIA (°C)</th>\n",
       "      <th>TEMPERATURA DO PONTO DE ORVALHO (°C)</th>\n",
       "      <th>...</th>\n",
       "      <th>VENTO, DIREÇÃO HORARIA (gr) (° (gr))</th>\n",
       "      <th>VENTO, RAJADA MAXIMA (m/s)</th>\n",
       "      <th>VENTO, VELOCIDADE HORARIA (m/s)</th>\n",
       "      <th>region</th>\n",
       "      <th>state</th>\n",
       "      <th>station</th>\n",
       "      <th>station_code</th>\n",
       "      <th>latitude</th>\n",
       "      <th>longitude</th>\n",
       "      <th>height</th>\n",
       "    </tr>\n",
       "  </thead>\n",
       "  <tbody>\n",
       "    <tr>\n",
       "      <th>0</th>\n",
       "      <td>0</td>\n",
       "      <td>2000-05-09</td>\n",
       "      <td>00:00</td>\n",
       "      <td>-9999.0</td>\n",
       "      <td>-9999.0</td>\n",
       "      <td>-9999.0</td>\n",
       "      <td>-9999.0</td>\n",
       "      <td>-9999</td>\n",
       "      <td>-9999.0</td>\n",
       "      <td>-9999.0</td>\n",
       "      <td>...</td>\n",
       "      <td>-9999</td>\n",
       "      <td>-9999.0</td>\n",
       "      <td>-9999.0</td>\n",
       "      <td>N</td>\n",
       "      <td>AM</td>\n",
       "      <td>MANAUS</td>\n",
       "      <td>A101</td>\n",
       "      <td>-3.103333</td>\n",
       "      <td>-60.016389</td>\n",
       "      <td>61.25</td>\n",
       "    </tr>\n",
       "    <tr>\n",
       "      <th>1</th>\n",
       "      <td>1</td>\n",
       "      <td>2000-05-09</td>\n",
       "      <td>01:00</td>\n",
       "      <td>-9999.0</td>\n",
       "      <td>-9999.0</td>\n",
       "      <td>-9999.0</td>\n",
       "      <td>-9999.0</td>\n",
       "      <td>-9999</td>\n",
       "      <td>-9999.0</td>\n",
       "      <td>-9999.0</td>\n",
       "      <td>...</td>\n",
       "      <td>-9999</td>\n",
       "      <td>-9999.0</td>\n",
       "      <td>-9999.0</td>\n",
       "      <td>N</td>\n",
       "      <td>AM</td>\n",
       "      <td>MANAUS</td>\n",
       "      <td>A101</td>\n",
       "      <td>-3.103333</td>\n",
       "      <td>-60.016389</td>\n",
       "      <td>61.25</td>\n",
       "    </tr>\n",
       "    <tr>\n",
       "      <th>2</th>\n",
       "      <td>2</td>\n",
       "      <td>2000-05-09</td>\n",
       "      <td>02:00</td>\n",
       "      <td>-9999.0</td>\n",
       "      <td>-9999.0</td>\n",
       "      <td>-9999.0</td>\n",
       "      <td>-9999.0</td>\n",
       "      <td>-9999</td>\n",
       "      <td>-9999.0</td>\n",
       "      <td>-9999.0</td>\n",
       "      <td>...</td>\n",
       "      <td>-9999</td>\n",
       "      <td>-9999.0</td>\n",
       "      <td>-9999.0</td>\n",
       "      <td>N</td>\n",
       "      <td>AM</td>\n",
       "      <td>MANAUS</td>\n",
       "      <td>A101</td>\n",
       "      <td>-3.103333</td>\n",
       "      <td>-60.016389</td>\n",
       "      <td>61.25</td>\n",
       "    </tr>\n",
       "    <tr>\n",
       "      <th>3</th>\n",
       "      <td>3</td>\n",
       "      <td>2000-05-09</td>\n",
       "      <td>03:00</td>\n",
       "      <td>-9999.0</td>\n",
       "      <td>-9999.0</td>\n",
       "      <td>-9999.0</td>\n",
       "      <td>-9999.0</td>\n",
       "      <td>-9999</td>\n",
       "      <td>-9999.0</td>\n",
       "      <td>-9999.0</td>\n",
       "      <td>...</td>\n",
       "      <td>-9999</td>\n",
       "      <td>-9999.0</td>\n",
       "      <td>-9999.0</td>\n",
       "      <td>N</td>\n",
       "      <td>AM</td>\n",
       "      <td>MANAUS</td>\n",
       "      <td>A101</td>\n",
       "      <td>-3.103333</td>\n",
       "      <td>-60.016389</td>\n",
       "      <td>61.25</td>\n",
       "    </tr>\n",
       "    <tr>\n",
       "      <th>4</th>\n",
       "      <td>4</td>\n",
       "      <td>2000-05-09</td>\n",
       "      <td>04:00</td>\n",
       "      <td>-9999.0</td>\n",
       "      <td>-9999.0</td>\n",
       "      <td>-9999.0</td>\n",
       "      <td>-9999.0</td>\n",
       "      <td>-9999</td>\n",
       "      <td>-9999.0</td>\n",
       "      <td>-9999.0</td>\n",
       "      <td>...</td>\n",
       "      <td>-9999</td>\n",
       "      <td>-9999.0</td>\n",
       "      <td>-9999.0</td>\n",
       "      <td>N</td>\n",
       "      <td>AM</td>\n",
       "      <td>MANAUS</td>\n",
       "      <td>A101</td>\n",
       "      <td>-3.103333</td>\n",
       "      <td>-60.016389</td>\n",
       "      <td>61.25</td>\n",
       "    </tr>\n",
       "  </tbody>\n",
       "</table>\n",
       "<p>5 rows × 27 columns</p>\n",
       "</div>"
      ],
      "text/plain": [
       "   index        Data   Hora  PRECIPITAÇÃO TOTAL, HORÁRIO (mm)  \\\n",
       "0      0  2000-05-09  00:00                           -9999.0   \n",
       "1      1  2000-05-09  01:00                           -9999.0   \n",
       "2      2  2000-05-09  02:00                           -9999.0   \n",
       "3      3  2000-05-09  03:00                           -9999.0   \n",
       "4      4  2000-05-09  04:00                           -9999.0   \n",
       "\n",
       "   PRESSAO ATMOSFERICA AO NIVEL DA ESTACAO, HORARIA (mB)  \\\n",
       "0                                            -9999.0       \n",
       "1                                            -9999.0       \n",
       "2                                            -9999.0       \n",
       "3                                            -9999.0       \n",
       "4                                            -9999.0       \n",
       "\n",
       "   PRESSÃO ATMOSFERICA MAX.NA HORA ANT. (AUT) (mB)  \\\n",
       "0                                          -9999.0   \n",
       "1                                          -9999.0   \n",
       "2                                          -9999.0   \n",
       "3                                          -9999.0   \n",
       "4                                          -9999.0   \n",
       "\n",
       "   PRESSÃO ATMOSFERICA MIN. NA HORA ANT. (AUT) (mB)  RADIACAO GLOBAL (Kj/m²)  \\\n",
       "0                                           -9999.0                    -9999   \n",
       "1                                           -9999.0                    -9999   \n",
       "2                                           -9999.0                    -9999   \n",
       "3                                           -9999.0                    -9999   \n",
       "4                                           -9999.0                    -9999   \n",
       "\n",
       "   TEMPERATURA DO AR - BULBO SECO, HORARIA (°C)  \\\n",
       "0                                       -9999.0   \n",
       "1                                       -9999.0   \n",
       "2                                       -9999.0   \n",
       "3                                       -9999.0   \n",
       "4                                       -9999.0   \n",
       "\n",
       "   TEMPERATURA DO PONTO DE ORVALHO (°C)  ...  \\\n",
       "0                               -9999.0  ...   \n",
       "1                               -9999.0  ...   \n",
       "2                               -9999.0  ...   \n",
       "3                               -9999.0  ...   \n",
       "4                               -9999.0  ...   \n",
       "\n",
       "   VENTO, DIREÇÃO HORARIA (gr) (° (gr))  VENTO, RAJADA MAXIMA (m/s)  \\\n",
       "0                                 -9999                     -9999.0   \n",
       "1                                 -9999                     -9999.0   \n",
       "2                                 -9999                     -9999.0   \n",
       "3                                 -9999                     -9999.0   \n",
       "4                                 -9999                     -9999.0   \n",
       "\n",
       "   VENTO, VELOCIDADE HORARIA (m/s)  region  state  station  station_code  \\\n",
       "0                          -9999.0       N     AM   MANAUS          A101   \n",
       "1                          -9999.0       N     AM   MANAUS          A101   \n",
       "2                          -9999.0       N     AM   MANAUS          A101   \n",
       "3                          -9999.0       N     AM   MANAUS          A101   \n",
       "4                          -9999.0       N     AM   MANAUS          A101   \n",
       "\n",
       "   latitude  longitude  height  \n",
       "0 -3.103333 -60.016389   61.25  \n",
       "1 -3.103333 -60.016389   61.25  \n",
       "2 -3.103333 -60.016389   61.25  \n",
       "3 -3.103333 -60.016389   61.25  \n",
       "4 -3.103333 -60.016389   61.25  \n",
       "\n",
       "[5 rows x 27 columns]"
      ]
     },
     "execution_count": 3,
     "metadata": {},
     "output_type": "execute_result"
    }
   ],
   "source": [
    "north_in.head()"
   ]
  },
  {
   "cell_type": "code",
   "execution_count": 4,
   "id": "acbe0c06",
   "metadata": {},
   "outputs": [
    {
     "name": "stdout",
     "output_type": "stream",
     "text": [
      "<class 'pandas.core.frame.DataFrame'>\n",
      "RangeIndex: 8392320 entries, 0 to 8392319\n",
      "Data columns (total 27 columns):\n",
      " #   Column                                                 Dtype  \n",
      "---  ------                                                 -----  \n",
      " 0   index                                                  int64  \n",
      " 1   Data                                                   object \n",
      " 2   Hora                                                   object \n",
      " 3   PRECIPITAÇÃO TOTAL, HORÁRIO (mm)                       float64\n",
      " 4   PRESSAO ATMOSFERICA AO NIVEL DA ESTACAO, HORARIA (mB)  float64\n",
      " 5   PRESSÃO ATMOSFERICA MAX.NA HORA ANT. (AUT) (mB)        float64\n",
      " 6   PRESSÃO ATMOSFERICA MIN. NA HORA ANT. (AUT) (mB)       float64\n",
      " 7   RADIACAO GLOBAL (Kj/m²)                                int64  \n",
      " 8   TEMPERATURA DO AR - BULBO SECO, HORARIA (°C)           float64\n",
      " 9   TEMPERATURA DO PONTO DE ORVALHO (°C)                   float64\n",
      " 10  TEMPERATURA MÁXIMA NA HORA ANT. (AUT) (°C)             float64\n",
      " 11  TEMPERATURA MÍNIMA NA HORA ANT. (AUT) (°C)             float64\n",
      " 12  TEMPERATURA ORVALHO MAX. NA HORA ANT. (AUT) (°C)       float64\n",
      " 13  TEMPERATURA ORVALHO MIN. NA HORA ANT. (AUT) (°C)       float64\n",
      " 14  UMIDADE REL. MAX. NA HORA ANT. (AUT) (%)               int64  \n",
      " 15  UMIDADE REL. MIN. NA HORA ANT. (AUT) (%)               int64  \n",
      " 16  UMIDADE RELATIVA DO AR, HORARIA (%)                    int64  \n",
      " 17  VENTO, DIREÇÃO HORARIA (gr) (° (gr))                   int64  \n",
      " 18  VENTO, RAJADA MAXIMA (m/s)                             float64\n",
      " 19  VENTO, VELOCIDADE HORARIA (m/s)                        float64\n",
      " 20  region                                                 object \n",
      " 21  state                                                  object \n",
      " 22  station                                                object \n",
      " 23  station_code                                           object \n",
      " 24  latitude                                               float64\n",
      " 25  longitude                                              float64\n",
      " 26  height                                                 float64\n",
      "dtypes: float64(15), int64(6), object(6)\n",
      "memory usage: 1.7+ GB\n"
     ]
    }
   ],
   "source": [
    "north_in.info()"
   ]
  },
  {
   "cell_type": "markdown",
   "id": "09f9cc8f",
   "metadata": {},
   "source": [
    "# Clean Data"
   ]
  },
  {
   "cell_type": "code",
   "execution_count": 7,
   "id": "3bc79eaa",
   "metadata": {},
   "outputs": [],
   "source": [
    "# Reset columns and get relevant info\n",
    "north_an = north_in.drop([\"index\"],axis=1)\n",
    "renamed_columns_en = ['date','hour','total precipitation (mm)','pressao atmosferica ao nivel da estacao (mb)','atmospheric pressure max. in the previous hour (mb)','atmospheric pressure min. in the previous hour (mb)','radiation (kj/m2)','air temperature - dry bulb (°c)','dew point temperature (°c)','max. temperature in the previous hour (°c)','min. temperature in the previous hour (°c)','dew temperature max. in the previous hour (°c)','dew temperature min. in the previous hour (°c)','relative humidity max. in the previous hour (%)','relative humidity min. in the previous hour (%)','air relative humidity (%)','wind direction (° (gr))','wind rajada maxima (m/s)','wind speed (m/s)','region','state','station','station_code','latitude','longitude','height']\n",
    "north_an.columns = renamed_columns_en\n",
    "north_an.drop(['pressao atmosferica ao nivel da estacao (mb)','atmospheric pressure max. in the previous hour (mb)','atmospheric pressure min. in the previous hour (mb)','radiation (kj/m2)','air temperature - dry bulb (°c)','dew point temperature (°c)', 'dew temperature max. in the previous hour (°c)','dew temperature min. in the previous hour (°c)','air relative humidity (%)','wind direction (° (gr))','wind rajada maxima (m/s)','region'], inplace=True, axis=1)\n",
    "north_an.reset_index(inplace=True)"
   ]
  },
  {
   "cell_type": "code",
   "execution_count": 8,
   "id": "a2211205",
   "metadata": {},
   "outputs": [
    {
     "name": "stdout",
     "output_type": "stream",
     "text": [
      "(8392320, 14)\n",
      "(5958288, 14)\n"
     ]
    }
   ],
   "source": [
    "# Deal with NA data,\n",
    "# if just a small portion, then delete it\n",
    "print(north_an.shape)\n",
    "north_an = north_an.replace(to_replace= -9999,value=np.NaN)\n",
    "north_an.dropna(inplace=True)\n",
    "print(north_an.shape)"
   ]
  },
  {
   "cell_type": "code",
   "execution_count": 26,
   "id": "d408194b",
   "metadata": {},
   "outputs": [
    {
     "data": {
      "text/html": [
       "<div>\n",
       "<style scoped>\n",
       "    .dataframe tbody tr th:only-of-type {\n",
       "        vertical-align: middle;\n",
       "    }\n",
       "\n",
       "    .dataframe tbody tr th {\n",
       "        vertical-align: top;\n",
       "    }\n",
       "\n",
       "    .dataframe thead th {\n",
       "        text-align: right;\n",
       "    }\n",
       "</style>\n",
       "<table border=\"1\" class=\"dataframe\">\n",
       "  <thead>\n",
       "    <tr style=\"text-align: right;\">\n",
       "      <th></th>\n",
       "      <th>index</th>\n",
       "      <th>date</th>\n",
       "      <th>hour</th>\n",
       "      <th>total precipitation (mm)</th>\n",
       "      <th>max. temperature in the previous hour (°c)</th>\n",
       "      <th>min. temperature in the previous hour (°c)</th>\n",
       "      <th>relative humidity max. in the previous hour (%)</th>\n",
       "      <th>relative humidity min. in the previous hour (%)</th>\n",
       "      <th>wind speed (m/s)</th>\n",
       "      <th>state</th>\n",
       "      <th>station</th>\n",
       "      <th>station_code</th>\n",
       "      <th>latitude</th>\n",
       "      <th>longitude</th>\n",
       "      <th>height</th>\n",
       "      <th>year</th>\n",
       "      <th>month</th>\n",
       "    </tr>\n",
       "  </thead>\n",
       "  <tbody>\n",
       "    <tr>\n",
       "      <th>0</th>\n",
       "      <td>21</td>\n",
       "      <td>2000-05-09</td>\n",
       "      <td>21:00</td>\n",
       "      <td>0.0</td>\n",
       "      <td>29.8</td>\n",
       "      <td>29.4</td>\n",
       "      <td>69.0</td>\n",
       "      <td>65.0</td>\n",
       "      <td>0.8</td>\n",
       "      <td>AM</td>\n",
       "      <td>MANAUS</td>\n",
       "      <td>A101</td>\n",
       "      <td>-3.103333</td>\n",
       "      <td>-60.016389</td>\n",
       "      <td>61.25</td>\n",
       "      <td>2000</td>\n",
       "      <td>05</td>\n",
       "    </tr>\n",
       "    <tr>\n",
       "      <th>1</th>\n",
       "      <td>22</td>\n",
       "      <td>2000-05-09</td>\n",
       "      <td>22:00</td>\n",
       "      <td>0.0</td>\n",
       "      <td>29.5</td>\n",
       "      <td>26.9</td>\n",
       "      <td>85.0</td>\n",
       "      <td>68.0</td>\n",
       "      <td>0.1</td>\n",
       "      <td>AM</td>\n",
       "      <td>MANAUS</td>\n",
       "      <td>A101</td>\n",
       "      <td>-3.103333</td>\n",
       "      <td>-60.016389</td>\n",
       "      <td>61.25</td>\n",
       "      <td>2000</td>\n",
       "      <td>05</td>\n",
       "    </tr>\n",
       "    <tr>\n",
       "      <th>2</th>\n",
       "      <td>23</td>\n",
       "      <td>2000-05-09</td>\n",
       "      <td>23:00</td>\n",
       "      <td>0.0</td>\n",
       "      <td>27.3</td>\n",
       "      <td>25.5</td>\n",
       "      <td>91.0</td>\n",
       "      <td>78.0</td>\n",
       "      <td>0.1</td>\n",
       "      <td>AM</td>\n",
       "      <td>MANAUS</td>\n",
       "      <td>A101</td>\n",
       "      <td>-3.103333</td>\n",
       "      <td>-60.016389</td>\n",
       "      <td>61.25</td>\n",
       "      <td>2000</td>\n",
       "      <td>05</td>\n",
       "    </tr>\n",
       "    <tr>\n",
       "      <th>3</th>\n",
       "      <td>24</td>\n",
       "      <td>2000-05-10</td>\n",
       "      <td>00:00</td>\n",
       "      <td>0.0</td>\n",
       "      <td>25.5</td>\n",
       "      <td>24.9</td>\n",
       "      <td>94.0</td>\n",
       "      <td>91.0</td>\n",
       "      <td>0.2</td>\n",
       "      <td>AM</td>\n",
       "      <td>MANAUS</td>\n",
       "      <td>A101</td>\n",
       "      <td>-3.103333</td>\n",
       "      <td>-60.016389</td>\n",
       "      <td>61.25</td>\n",
       "      <td>2000</td>\n",
       "      <td>05</td>\n",
       "    </tr>\n",
       "    <tr>\n",
       "      <th>4</th>\n",
       "      <td>25</td>\n",
       "      <td>2000-05-10</td>\n",
       "      <td>01:00</td>\n",
       "      <td>0.0</td>\n",
       "      <td>25.0</td>\n",
       "      <td>24.4</td>\n",
       "      <td>95.0</td>\n",
       "      <td>92.0</td>\n",
       "      <td>0.1</td>\n",
       "      <td>AM</td>\n",
       "      <td>MANAUS</td>\n",
       "      <td>A101</td>\n",
       "      <td>-3.103333</td>\n",
       "      <td>-60.016389</td>\n",
       "      <td>61.25</td>\n",
       "      <td>2000</td>\n",
       "      <td>05</td>\n",
       "    </tr>\n",
       "  </tbody>\n",
       "</table>\n",
       "</div>"
      ],
      "text/plain": [
       "   index        date   hour  total precipitation (mm)  \\\n",
       "0     21  2000-05-09  21:00                       0.0   \n",
       "1     22  2000-05-09  22:00                       0.0   \n",
       "2     23  2000-05-09  23:00                       0.0   \n",
       "3     24  2000-05-10  00:00                       0.0   \n",
       "4     25  2000-05-10  01:00                       0.0   \n",
       "\n",
       "   max. temperature in the previous hour (°c)  \\\n",
       "0                                        29.8   \n",
       "1                                        29.5   \n",
       "2                                        27.3   \n",
       "3                                        25.5   \n",
       "4                                        25.0   \n",
       "\n",
       "   min. temperature in the previous hour (°c)  \\\n",
       "0                                        29.4   \n",
       "1                                        26.9   \n",
       "2                                        25.5   \n",
       "3                                        24.9   \n",
       "4                                        24.4   \n",
       "\n",
       "   relative humidity max. in the previous hour (%)  \\\n",
       "0                                             69.0   \n",
       "1                                             85.0   \n",
       "2                                             91.0   \n",
       "3                                             94.0   \n",
       "4                                             95.0   \n",
       "\n",
       "   relative humidity min. in the previous hour (%)  wind speed (m/s) state  \\\n",
       "0                                             65.0               0.8    AM   \n",
       "1                                             68.0               0.1    AM   \n",
       "2                                             78.0               0.1    AM   \n",
       "3                                             91.0               0.2    AM   \n",
       "4                                             92.0               0.1    AM   \n",
       "\n",
       "  station station_code  latitude  longitude  height  year month  \n",
       "0  MANAUS         A101 -3.103333 -60.016389   61.25  2000    05  \n",
       "1  MANAUS         A101 -3.103333 -60.016389   61.25  2000    05  \n",
       "2  MANAUS         A101 -3.103333 -60.016389   61.25  2000    05  \n",
       "3  MANAUS         A101 -3.103333 -60.016389   61.25  2000    05  \n",
       "4  MANAUS         A101 -3.103333 -60.016389   61.25  2000    05  "
      ]
     },
     "execution_count": 26,
     "metadata": {},
     "output_type": "execute_result"
    }
   ],
   "source": [
    "# Get YEAR & MONTH column for further analysis\n",
    "north_an[\"year\"] = [north_an[\"date\"][i][:4] for i in range(len(north_an[\"date\"]))]\n",
    "north_an[\"month\"] = [north_an[\"date\"][i][5:7] for i in range(len(north_an[\"date\"]))]\n",
    "north_an.head()"
   ]
  },
  {
   "cell_type": "code",
   "execution_count": 27,
   "id": "a33998c3",
   "metadata": {},
   "outputs": [
    {
     "data": {
      "text/plain": [
       "array(['AM', 'PA', 'TO', 'RO', 'AC', 'AP', 'RR'], dtype=object)"
      ]
     },
     "execution_count": 27,
     "metadata": {},
     "output_type": "execute_result"
    }
   ],
   "source": [
    "# What states are covered in North\n",
    "north_an[\"state\"].unique()"
   ]
  },
  {
   "cell_type": "code",
   "execution_count": 28,
   "id": "6e1977de",
   "metadata": {},
   "outputs": [
    {
     "name": "stdout",
     "output_type": "stream",
     "text": [
      "2021-04-30 2000-05-09\n"
     ]
    }
   ],
   "source": [
    "# How many years it covers\n",
    "print(north_an[\"date\"].max(), north_an[\"date\"].min())"
   ]
  },
  {
   "cell_type": "code",
   "execution_count": 29,
   "id": "2082e0ce",
   "metadata": {},
   "outputs": [
    {
     "name": "stdout",
     "output_type": "stream",
     "text": [
      "['A101' 'A202' 'A201' 'A009' 'A010' 'A018' 'A213' 'A212' 'A021' 'A020'\n",
      " 'A925' 'A019' 'A940' 'A102' 'A112' 'A939' 'A938' 'A230' 'A231' 'A124'\n",
      " 'A236' 'A128' 'A214' 'A119' 'A209' 'A227' 'A210' 'A117' 'A235' 'A113'\n",
      " 'A215' 'A233' 'A110' 'A226' 'A126' 'A229' 'A122' 'A211' 'A039' 'A125'\n",
      " 'A120' 'A242' 'A123' 'A121' 'A104' 'A241' 'A038' 'A111' 'A234' 'A140'\n",
      " 'A136' 'A138' 'A137' 'A240' 'A044' 'A135' 'A134' 'A246' 'A248' 'A232'\n",
      " 'A239' 'A040' 'A043' 'A109' 'A041' 'A249' 'A133' 'A250' 'A054' 'A108'\n",
      " 'A052' 'A049' 'A216' 'A053' 'A048' 'A050' 'A055' 'A051' 'A247' 'A228'\n",
      " 'A251' 'A253' 'A252' 'A144' 'A244' 'A254' 'A256']\n"
     ]
    }
   ],
   "source": [
    "# How many stations it included\n",
    "print(north_an[\"station_code\"].unique())"
   ]
  },
  {
   "cell_type": "markdown",
   "id": "910b9410",
   "metadata": {},
   "source": [
    "# Investigate Info"
   ]
  },
  {
   "cell_type": "markdown",
   "id": "901d8eac",
   "metadata": {},
   "source": [
    "### Total precipitation by states\n",
    "?? Uisng heatmap to show total percipitation"
   ]
  },
  {
   "cell_type": "code",
   "execution_count": 32,
   "id": "8efd224e",
   "metadata": {},
   "outputs": [
    {
     "data": {
      "image/png": "[encoded data removed]",
      "text/plain": [
       "<Figure size 432x288 with 1 Axes>"
      ]
     },
     "metadata": {
      "needs_background": "light"
     },
     "output_type": "display_data"
    }
   ],
   "source": [
    "north_an.boxplot(column=\"total precipitation (mm)\",by=\"state\")\n",
    "plt.show()"
   ]
  },
  {
   "cell_type": "markdown",
   "id": "a41443e8",
   "metadata": {},
   "source": [
    "### Temperature Difference by month\n",
    "?? Uisng line charts"
   ]
  },
  {
   "cell_type": "code",
   "execution_count": 41,
   "id": "56304499",
   "metadata": {},
   "outputs": [
    {
     "data": {
      "image/png": "[encoded data removed]",
      "text/plain": [
       "<Figure size 432x288 with 1 Axes>"
      ]
     },
     "metadata": {
      "needs_background": "light"
     },
     "output_type": "display_data"
    }
   ],
   "source": [
    "north_an[\"tem_diff\"] = north_an[\"max. temperature in the previous hour (°c)\"] - north_an[\"min. temperature in the previous hour (°c)\"]\n",
    "north_an.boxplot(column=\"tem_diff\",by=\"month\")\n",
    "plt.show()"
   ]
  }
 ],
 "metadata": {
  "kernelspec": {
   "display_name": "Python [conda env:bootcamp] *",
   "language": "python",
   "name": "conda-env-bootcamp-py"
  },
  "language_info": {
   "codemirror_mode": {
    "name": "ipython",
    "version": 3
   },
   "file_extension": ".py",
   "mimetype": "text/x-python",
   "name": "python",
   "nbconvert_exporter": "python",
   "pygments_lexer": "ipython3",
   "version": "3.7.13"
  }
 },
 "nbformat": 4,
 "nbformat_minor": 5
}
